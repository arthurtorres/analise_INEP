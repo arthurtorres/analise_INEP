{
  "nbformat": 4,
  "nbformat_minor": 0,
  "metadata": {
    "colab": {
      "name": "Dados_Tratamento_INEP.ipynb",
      "provenance": [],
      "collapsed_sections": [
        "JAQNuCDjotIe",
        "tT_3tU3BUHQu",
        "oHaXTa8TUKyN",
        "cstZ7SrUYRGU"
      ],
      "toc_visible": true,
      "machine_shape": "hm"
    },
    "kernelspec": {
      "display_name": "Python 3",
      "name": "python3"
    }
  },
  "cells": [
    {
      "cell_type": "markdown",
      "metadata": {
        "id": "JAQNuCDjotIe"
      },
      "source": [
        "## Ideia\n"
      ]
    },
    {
      "cell_type": "markdown",
      "metadata": {
        "id": "I_gpGkLVnEYv"
      },
      "source": [
        "Vamos extrair os dados sobre alunos, cursos e IES de ensino superior do INEP de 2009 a 2019. Para isto precisaremos extrair os dados do site do INEP(felizmente já temos as URL's. Depois faremos uma limpeza nos dados duplicados, para deixar a base de dados mais limpa e criar um dataset para análise que será armazena no google drive. Vamos também cronometar o tempo que o script demora para executar."
      ]
    },
    {
      "cell_type": "markdown",
      "metadata": {
        "id": "lP8Re5x-ox08"
      },
      "source": [
        "##Extraindo os dados do INEP"
      ]
    },
    {
      "cell_type": "markdown",
      "metadata": {
        "id": "fjQp4eVXo0zR"
      },
      "source": [
        "Instalando bibliotecas necessárias."
      ]
    },
    {
      "cell_type": "code",
      "metadata": {
        "colab": {
          "base_uri": "https://localhost:8080/",
          "height": 751
        },
        "id": "z15YcmfvOe69",
        "outputId": "8b070cb9-b8ca-4786-ee1b-760aeb1cd050"
      },
      "source": [
        "!pip install pyunpack\n",
        "!pip install dask[dataframe]\n",
        "!pip install patool\n"
      ],
      "execution_count": null,
      "outputs": [
        {
          "output_type": "stream",
          "text": [
            "Collecting pyunpack\n",
            "  Downloading https://files.pythonhosted.org/packages/83/29/020436b1d8e96e5f26fa282b9c3c13a3b456a36b9ea2edc87c5fed008369/pyunpack-0.2.2-py2.py3-none-any.whl\n",
            "Collecting entrypoint2\n",
            "  Downloading https://files.pythonhosted.org/packages/c2/ca/00c8767568924e5c2209da99b6abdeeed9d11cbae2a713d54d041b092a09/entrypoint2-0.2.3-py2.py3-none-any.whl\n",
            "Collecting easyprocess\n",
            "  Downloading https://files.pythonhosted.org/packages/48/3c/75573613641c90c6d094059ac28adb748560d99bd27ee6f80cce398f404e/EasyProcess-0.3-py2.py3-none-any.whl\n",
            "Collecting argparse\n",
            "  Downloading https://files.pythonhosted.org/packages/f2/94/3af39d34be01a24a6e65433d19e107099374224905f1e0cc6bbe1fd22a2f/argparse-1.4.0-py2.py3-none-any.whl\n",
            "Installing collected packages: argparse, entrypoint2, easyprocess, pyunpack\n",
            "Successfully installed argparse-1.4.0 easyprocess-0.3 entrypoint2-0.2.3 pyunpack-0.2.2\n"
          ],
          "name": "stdout"
        },
        {
          "output_type": "display_data",
          "data": {
            "application/vnd.colab-display-data+json": {
              "pip_warning": {
                "packages": [
                  "argparse"
                ]
              }
            }
          },
          "metadata": {
            "tags": []
          }
        },
        {
          "output_type": "stream",
          "text": [
            "Requirement already satisfied: dask[dataframe] in /usr/local/lib/python3.6/dist-packages (2.12.0)\n",
            "Collecting fsspec>=0.6.0; extra == \"dataframe\"\n",
            "\u001b[?25l  Downloading https://files.pythonhosted.org/packages/ec/80/72ac0982cc833945fada4b76c52f0f65435ba4d53bc9317d1c70b5f7e7d5/fsspec-0.8.5-py3-none-any.whl (98kB)\n",
            "\u001b[K     |████████████████████████████████| 102kB 2.7MB/s \n",
            "\u001b[?25hCollecting partd>=0.3.10; extra == \"dataframe\"\n",
            "  Downloading https://files.pythonhosted.org/packages/44/e1/68dbe731c9c067655bff1eca5b7d40c20ca4b23fd5ec9f3d17e201a6f36b/partd-1.1.0-py3-none-any.whl\n",
            "Requirement already satisfied: numpy>=1.13.0; extra == \"dataframe\" in /usr/local/lib/python3.6/dist-packages (from dask[dataframe]) (1.19.5)\n",
            "Requirement already satisfied: pandas>=0.23.0; extra == \"dataframe\" in /usr/local/lib/python3.6/dist-packages (from dask[dataframe]) (1.1.5)\n",
            "Requirement already satisfied: toolz>=0.7.3; extra == \"dataframe\" in /usr/local/lib/python3.6/dist-packages (from dask[dataframe]) (0.11.1)\n",
            "Collecting locket\n",
            "  Downloading https://files.pythonhosted.org/packages/d0/22/3c0f97614e0be8386542facb3a7dcfc2584f7b83608c02333bced641281c/locket-0.2.0.tar.gz\n",
            "Requirement already satisfied: pytz>=2017.2 in /usr/local/lib/python3.6/dist-packages (from pandas>=0.23.0; extra == \"dataframe\"->dask[dataframe]) (2018.9)\n",
            "Requirement already satisfied: python-dateutil>=2.7.3 in /usr/local/lib/python3.6/dist-packages (from pandas>=0.23.0; extra == \"dataframe\"->dask[dataframe]) (2.8.1)\n",
            "Requirement already satisfied: six>=1.5 in /usr/local/lib/python3.6/dist-packages (from python-dateutil>=2.7.3->pandas>=0.23.0; extra == \"dataframe\"->dask[dataframe]) (1.15.0)\n",
            "Building wheels for collected packages: locket\n",
            "  Building wheel for locket (setup.py) ... \u001b[?25l\u001b[?25hdone\n",
            "  Created wheel for locket: filename=locket-0.2.0-cp36-none-any.whl size=4042 sha256=09c72a9660cb409b4b32c0e6491384c77b13ae3fc0544a82e17d13f887ce34ec\n",
            "  Stored in directory: /root/.cache/pip/wheels/26/1e/e8/4fa236ec931b1a0cdd61578e20d4934d7bf188858723b84698\n",
            "Successfully built locket\n",
            "Installing collected packages: fsspec, locket, partd\n",
            "Successfully installed fsspec-0.8.5 locket-0.2.0 partd-1.1.0\n",
            "Collecting patool\n",
            "\u001b[?25l  Downloading https://files.pythonhosted.org/packages/43/94/52243ddff508780dd2d8110964320ab4851134a55ab102285b46e740f76a/patool-1.12-py2.py3-none-any.whl (77kB)\n",
            "\u001b[K     |████████████████████████████████| 81kB 3.8MB/s \n",
            "\u001b[?25hInstalling collected packages: patool\n",
            "Successfully installed patool-1.12\n"
          ],
          "name": "stdout"
        }
      ]
    },
    {
      "cell_type": "markdown",
      "metadata": {
        "id": "xHo6einGo7l0"
      },
      "source": [
        "Importando Bibliotecas"
      ]
    },
    {
      "cell_type": "code",
      "metadata": {
        "id": "aNWnvfOYOqeL"
      },
      "source": [
        "# importando bibliotecas\n",
        "\n",
        "import pandas as pd\n",
        "import zipfile\n",
        "import os\n",
        "from pyunpack import Archive\n",
        "import dask.dataframe as dd\n",
        "import warnings\n",
        "warnings.filterwarnings(\"ignore\")\n",
        "import shutil\n",
        "from datetime import datetime\n",
        "startTime = datetime.now()"
      ],
      "execution_count": null,
      "outputs": []
    },
    {
      "cell_type": "code",
      "metadata": {
        "id": "_xwEDm0COtop"
      },
      "source": [
        "#@title Criando variável contendo as urls de interesse\n",
        "urls  = [\"http://download.inep.gov.br/microdados/microdados_censo_superior_2009.zip\",\n",
        "         \"http://download.inep.gov.br/microdados/microdados_censo_superior_2010.zip\",\n",
        "         \"http://download.inep.gov.br/microdados/microdados_censo_superior_2011.zip\",\n",
        "         \"http://download.inep.gov.br/microdados/microdados_censo_superior_2012.zip\",\n",
        "         \"http://download.inep.gov.br/microdados/microdados_censo_superior_2013.zip\",\n",
        "         \"http://download.inep.gov.br/microdados/microdados_censo_superior_2014.zip\",\n",
        "         \"http://download.inep.gov.br/microdados/microdados_censo_superior_2015.zip\",\n",
        "         \"http://download.inep.gov.br/microdados/microdados_censo_superior_2016.zip\",\n",
        "         \"http://download.inep.gov.br/microdados/microdados_educacao_superior_2017.zip\",\n",
        "         \"http://download.inep.gov.br/microdados/microdados_educacao_superior_2018.zip\",\n",
        "         \"http://download.inep.gov.br/microdados/microdados_educacao_superior_2019.zip\"]\n",
        "\n",
        "\n"
      ],
      "execution_count": null,
      "outputs": []
    },
    {
      "cell_type": "code",
      "metadata": {
        "id": "3ZdbmViamS7b"
      },
      "source": [
        "#@title Criando função para coletar os dados\n",
        "def DownloadData(url) :\n",
        "   import os \n",
        "   os.system(f'wget {url}')\n"
      ],
      "execution_count": null,
      "outputs": []
    },
    {
      "cell_type": "markdown",
      "metadata": {
        "id": "bh2VAcdJdWDZ"
      },
      "source": [
        "Coletando os dados :"
      ]
    },
    {
      "cell_type": "code",
      "metadata": {
        "id": "0JYIMyXdm4Pk"
      },
      "source": [
        "\n",
        "\n",
        "for i in (range(len(urls))):\n",
        "  DownloadData(urls[i])\n",
        "\n"
      ],
      "execution_count": null,
      "outputs": []
    },
    {
      "cell_type": "markdown",
      "metadata": {
        "id": "_Mw31FtMmTmK"
      },
      "source": [
        "Os arquivos baixados são arquivos zip, precisamos descompactá-los em diretórios para trabalhar. Faremos isto em seguida. Foi escolhida para o diretório o ano dos dados( de 2009 a 2019). Para facilitar foi criado algumas funções para descompactar os arquivos .zip e criar as rotas onde os dados serão armazenados."
      ]
    },
    {
      "cell_type": "markdown",
      "metadata": {
        "id": "z0IWhOSoq0Gz"
      },
      "source": [
        "Criando os nomes dos diretórios e arquivos zip"
      ]
    },
    {
      "cell_type": "code",
      "metadata": {
        "id": "zTwBxT-IOx42"
      },
      "source": [
        "diretorio = [\"2009\",\"2010\",\"2011\",\"2012\",\"2013\",\"2014\",\"2015\",\"2016\",\"2017\",\"2018\",\"2019\"]\n",
        "zip_files = [\"microdados_censo_superior_2009.zip\",\"microdados_censo_superior_2010.zip\",\n",
        "             \"microdados_censo_superior_2011.zip\",\"microdados_censo_superior_2012.zip\",\n",
        "             \"microdados_censo_superior_2013.zip\",\"microdados_censo_superior_2014.zip\",\n",
        "             \"microdados_censo_superior_2015.zip\",\"microdados_censo_superior_2016.zip\",\n",
        "             \"microdados_educacao_superior_2017.zip\",\"microdados_educacao_superior_2018.zip\",\n",
        "             \"microdados_educacao_superior_2019.zip\"]\n",
        "\n"
      ],
      "execution_count": null,
      "outputs": []
    },
    {
      "cell_type": "code",
      "metadata": {
        "id": "iMTlezlAmkgi"
      },
      "source": [
        "#@Criando as funções\n",
        "def criandoenderecos(diretorios,arquivos) :\n",
        " for number in range(len(diretorios)) :\n",
        "  diretorio[number] = f\"/content/{diretorio[number]}\"\n",
        "  arquivos[number ] = f\"/content/{zip_files[number]}\"\n",
        "\n",
        "def criandodiretorio(diretorio) :\n",
        "  import os\n",
        "  for number in range(len(diretorio)) :\n",
        "    os.mkdir(diretorio[number])\n",
        "\n",
        "def criandoarquivo(diretorio,arquivo):\n",
        "  import zipfile \n",
        "  with zipfile.ZipFile(arquivo, 'r') as zip_ref:\n",
        "    zip_ref.extractall(diretorio)"
      ],
      "execution_count": null,
      "outputs": []
    },
    {
      "cell_type": "markdown",
      "metadata": {
        "id": "Mt1JoCGkqewl"
      },
      "source": [
        "Aplicando as funções"
      ]
    },
    {
      "cell_type": "code",
      "metadata": {
        "id": "KUc230XPpt2A"
      },
      "source": [
        "criandoenderecos(diretorio,zip_files) # ciranco os endereços de acesso\n",
        "criandodiretorio(diretorio) #criando os diretorios\n"
      ],
      "execution_count": null,
      "outputs": []
    },
    {
      "cell_type": "code",
      "metadata": {
        "id": "PkhtI3bJqA-o"
      },
      "source": [
        "\n",
        "for i in (range(len(diretorio))) :\n",
        "  criandoarquivo(diretorio[i],zip_files[i]) #unpack dos arquivos zip\n"
      ],
      "execution_count": null,
      "outputs": []
    },
    {
      "cell_type": "markdown",
      "metadata": {
        "id": "33qk4iQntAs5"
      },
      "source": [
        "Os arquivos que nos interessam estão em vários formatos (zip,rar,csv) entretanto seguem um padrão. Usaremos isto para descompactar os arquivos rar e zip e juntá-los numa variável.\n",
        "Também renomearemos os dados referentes a 2019, pois fogem do padrão esperado."
      ]
    },
    {
      "cell_type": "code",
      "metadata": {
        "id": "FZkLKgRQ_s8J"
      },
      "source": [
        "dado = \"DM_ALUNO\"\n",
        "\n",
        "dado_inicio = \"/content/2019/Microdados_Educaç╞o_Superior_2019/dados/SUP_ALUNO_2019.CSV\"\n",
        "dado_final = f\"/content/2019/Microdados_Educaç╞o_Superior_2019/dados/{dado}.CSV\"\n",
        "os.rename(dado_inicio,dado_final)\n",
        "arc_zip =  ! find . | grep -i {dado}.zip\n",
        "arc_rar =  ! find . | grep -i {dado}.rar\n",
        "\n"
      ],
      "execution_count": null,
      "outputs": []
    },
    {
      "cell_type": "markdown",
      "metadata": {
        "id": "10wU8ZXovNdH"
      },
      "source": [
        "Vamos dar unpack nos dados rar e nos dados zip. Felizmente já temos uma função que realiza o zip. Vamos criar uma para os arquivos .rar"
      ]
    },
    {
      "cell_type": "code",
      "metadata": {
        "id": "6mV2qa_avXu3"
      },
      "source": [
        "#@title Criando função pra descompactar arquivos .rar\n",
        "\n",
        "def descompactaArquivosRar(arquivosrarcomeco) :\n",
        "  Archive(arquivosrarcomeco).extractall(arquivosrarcomeco[2:6])\n"
      ],
      "execution_count": null,
      "outputs": []
    },
    {
      "cell_type": "markdown",
      "metadata": {
        "id": "zOp33hKQxffg"
      },
      "source": [
        "Aplicando a função"
      ]
    },
    {
      "cell_type": "code",
      "metadata": {
        "id": "MGIdDaN4ux-G"
      },
      "source": [
        "\n",
        "for i in (range(len(arc_rar))) :\n",
        "  descompactaArquivosRar(arc_rar[i])"
      ],
      "execution_count": null,
      "outputs": []
    },
    {
      "cell_type": "markdown",
      "metadata": {
        "id": "syYA9pOvxzOg"
      },
      "source": [
        "Descompactando os arquivos zip"
      ]
    },
    {
      "cell_type": "code",
      "metadata": {
        "id": "FA1uu0q9udbB"
      },
      "source": [
        "\n",
        "for i in (range(len(arc_zip))) :\n",
        "  criandoarquivo (arc_zip[i][2:6], arc_zip[i])\n",
        "  \n",
        "\n",
        "  "
      ],
      "execution_count": null,
      "outputs": []
    },
    {
      "cell_type": "markdown",
      "metadata": {
        "id": "JP-SF_451PwN"
      },
      "source": [
        "Vamos confirmar se temos todos arquivos que queremos."
      ]
    },
    {
      "cell_type": "code",
      "metadata": {
        "id": "cM739iR5_1qF",
        "colab": {
          "base_uri": "https://localhost:8080/"
        },
        "outputId": "786aaec0-9bd3-4c36-a8c3-628617036e22"
      },
      "source": [
        "arquivos = ! find . | grep -i {dado}.csv\n",
        "arquivos= arquivos.sort()\n",
        "arquivos\n",
        "\n"
      ],
      "execution_count": null,
      "outputs": [
        {
          "output_type": "execute_result",
          "data": {
            "text/plain": [
              "['./2009/DM_ALUNO.CSV',\n",
              " './2010/DM_ALUNO.CSV',\n",
              " './2011/DM_ALUNO.CSV',\n",
              " './2012/DM_ALUNO.CSV',\n",
              " './2013/DM_ALUNO.CSV',\n",
              " './2014/microdados_censo_superior_2014/2014/DADOS/DM_ALUNO.CSV',\n",
              " './2015/DM_ALUNO.CSV',\n",
              " './2016/DM_ALUNO.CSV',\n",
              " './2017/DM_ALUNO.CSV',\n",
              " './2018/microdados_ed_superior_2018/dados/DM_ALUNO.CSV',\n",
              " './2019/Microdados_Educaç╞o_Superior_2019/dados/DM_ALUNO.CSV']"
            ]
          },
          "metadata": {
            "tags": []
          },
          "execution_count": 14
        }
      ]
    },
    {
      "cell_type": "markdown",
      "metadata": {
        "id": "rdzo0ekh1kM5"
      },
      "source": [
        "Temos os arquivos que nos interessam para Aluno. Precisamos então repetir o processo para arquivos do tipo DM_IES e DM_CURSO. Vamos criar uma função para retornar a lista já descompactada."
      ]
    },
    {
      "cell_type": "code",
      "metadata": {
        "id": "fiCiUadC1ybS"
      },
      "source": [
        "def geraTodosArquivos(dados) :\n",
        "\n",
        "  dado_inicio =f\"/content/2019/Microdados_Educaç╞o_Superior_2019/dados/SUP_{dados[3:]}_2019.CSV\"\n",
        "  dado_final = f\"/content/2019/Microdados_Educaç╞o_Superior_2019/dados/{dados}.CSV\"\n",
        "  os.rename(dado_inicio,dado_final)\n",
        "\n",
        "  arc_zip =  ! find . | grep -i {dados}.zip\n",
        "  arc_rar =  ! find . | grep -i {dados}.rar\n",
        "  for i in (range(len(arc_zip))) :\n",
        "    criandoarquivo (arc_zip[i][2:6], arc_zip[i])\n",
        "    print(arc_zip[i])\n",
        "\n",
        "  for i in (range(len(arc_rar))) :\n",
        "    descompactaArquivosRar(arc_rar[i])\n",
        "  \n",
        "  arquivos = ! find . | grep -i {dados}.csv\n",
        "  arquivos= arquivos.sort()\n",
        "  return arquivos\n"
      ],
      "execution_count": null,
      "outputs": []
    },
    {
      "cell_type": "code",
      "metadata": {
        "id": "PaYHsXuM3Dwr",
        "colab": {
          "base_uri": "https://localhost:8080/"
        },
        "outputId": "28d9e08b-9291-4839-87d9-5d91f6373882"
      },
      "source": [
        "arquivos_IES = geraTodosArquivos(\"DM_IES\")\n"
      ],
      "execution_count": null,
      "outputs": [
        {
          "output_type": "stream",
          "text": [
            "./2017/Microdados_Educacao_Superior_2017/DADOS/DM_IES.zip\n"
          ],
          "name": "stdout"
        }
      ]
    },
    {
      "cell_type": "code",
      "metadata": {
        "id": "1fYFawlI6aZm",
        "colab": {
          "base_uri": "https://localhost:8080/"
        },
        "outputId": "898197a4-e130-4b35-cd0c-0ece3789d5dc"
      },
      "source": [
        "arquivos_IES"
      ],
      "execution_count": null,
      "outputs": [
        {
          "output_type": "execute_result",
          "data": {
            "text/plain": [
              "['./2009/DM_IES.CSV',\n",
              " './2010/DM_IES.CSV',\n",
              " './2011/DM_IES.CSV',\n",
              " './2012/DM_IES.CSV',\n",
              " './2013/DM_IES.CSV',\n",
              " './2014/microdados_censo_superior_2014/2014/DADOS/DM_IES.CSV',\n",
              " './2015/DM_IES.CSV',\n",
              " './2016/DM_IES.CSV',\n",
              " './2017/DM_IES.CSV',\n",
              " './2018/microdados_ed_superior_2018/dados/DM_IES.CSV',\n",
              " './2019/Microdados_Educaç╞o_Superior_2019/dados/DM_IES.CSV']"
            ]
          },
          "metadata": {
            "tags": []
          },
          "execution_count": 17
        }
      ]
    },
    {
      "cell_type": "code",
      "metadata": {
        "id": "hm5xtoSP1266",
        "colab": {
          "base_uri": "https://localhost:8080/"
        },
        "outputId": "a5d5bc2f-34e7-4a54-d06f-0300514b3f4d"
      },
      "source": [
        "arquivos_CURSO = geraTodosArquivos(\"DM_CURSO\")"
      ],
      "execution_count": null,
      "outputs": [
        {
          "output_type": "stream",
          "text": [
            "./2017/Microdados_Educacao_Superior_2017/DADOS/DM_CURSO.zip\n"
          ],
          "name": "stdout"
        }
      ]
    },
    {
      "cell_type": "code",
      "metadata": {
        "id": "vKyuCwil4AYM",
        "colab": {
          "base_uri": "https://localhost:8080/"
        },
        "outputId": "95e6b9c4-ddd8-4bcf-86f1-c95c3ac62751"
      },
      "source": [
        "arquivos_CURSO"
      ],
      "execution_count": null,
      "outputs": [
        {
          "output_type": "execute_result",
          "data": {
            "text/plain": [
              "['./2009/DM_CURSO.CSV',\n",
              " './2010/DM_CURSO.CSV',\n",
              " './2011/DM_CURSO.CSV',\n",
              " './2012/DM_CURSO.CSV',\n",
              " './2013/DM_CURSO.CSV',\n",
              " './2014/microdados_censo_superior_2014/2014/DADOS/DM_CURSO.CSV',\n",
              " './2015/DM_CURSO.CSV',\n",
              " './2016/DM_CURSO.CSV',\n",
              " './2017/DM_CURSO.CSV',\n",
              " './2018/microdados_ed_superior_2018/dados/DM_CURSO.CSV',\n",
              " './2019/Microdados_Educaç╞o_Superior_2019/dados/DM_CURSO.CSV']"
            ]
          },
          "metadata": {
            "tags": []
          },
          "execution_count": 19
        }
      ]
    },
    {
      "cell_type": "markdown",
      "metadata": {
        "id": "3uT66Cw3oDcv"
      },
      "source": [
        "##Mexendo com Alunos"
      ]
    },
    {
      "cell_type": "markdown",
      "metadata": {
        "id": "bxEj2tgE4IVm"
      },
      "source": [
        "Agora que temos todos os arquivos que precisamos, vamos juntá-los em apenas um arquivo. Os arquivos com DM_ALUNO são grandes e para isto, vamos utilizar a biblioteca Dask para não estourar a ram do sistema. Vamos pegar os dados referentes ao Aluno que nos interessa, no meu caso serão os dados abaixo :\n",
        "\n",
        "* CO_IES - Instituição de ensino na qual o Aluno está matriculado.\n",
        "\n",
        "* CO_ALUNO  - Código de Identificação Único do Aluno\n",
        "\n",
        "* Cat_Adm - Categoria Administrativa da faculdade de ensino do aluno     ( Publica,Privada e seus derivados)\n",
        "\n",
        "* CO_CURSO - Curso do Aluno\n",
        "\n",
        "* Nivel_Aca - Nível Acadêmico do Aluno ( Graduação ou superior)\n",
        "\n",
        "* Genêro - Gênero do Aluno (Masculino ou Feminino)\n",
        "\n",
        "* Cor/Raça = Cor/Raça do Aluno\n",
        "\n",
        "* IN_Resrva_Etnico : Indica se o aluno entrou na faculdade atráves de reserva de vagas de cunho etníco\n",
        "\n",
        "* IN_Reserva_Vagas : Indica se o aluno entrou na atráves de reserva de vagas\n",
        "\n",
        "* Apoio_Social = Indica se o aluno recebe algum tipo de Apoio Social.\n",
        "\n",
        "* Ano - Ano que o dado foi coletado.\n",
        "\n"
      ]
    },
    {
      "cell_type": "markdown",
      "metadata": {
        "id": "6SAA6xfZ7exw"
      },
      "source": [
        "Como houve mudanças nas nomeclaturas adotadas pelo INEP, foi necessário criar mais de uma variável para coletar os dados, depedendo do arquivo que ela está lendo.  Por exemplo, em 2009 temos que o código identificador do Aluno é indicado por CO_ALUNO e em 2019 o dado já é contabilizado como ID_ALUNO"
      ]
    },
    {
      "cell_type": "code",
      "metadata": {
        "id": "d0wM15sg8Oo8"
      },
      "source": [
        "#@title Definindo algumas variáveis utilizadas\n",
        "types = {'CO_GRAU_ACADEMICO': 'float64','CO_TURNO_ALUNO': 'float64',\n",
        "                              'TP_GRAU_ACADEMICO': 'float64','CO_OCDE_AREA_DETALHADA': 'float64',\n",
        "                               'CO_OCDE_AREA_ESPECIFICA': 'float64','CO_OCDE_AREA_GERAL': 'float64',\n",
        "                               'TP_TURNO': 'float64','IN_ING_CONVENIO_PECG': 'float64' ,\n",
        "                              \"CO_ALUNO\" :\"object\" , \"ID_ALUNO\" : \"object\",'ANO_INGRESSO': 'float64',\n",
        "       'CO_ALUNO_SITUACAO': 'float64',\n",
        "       'CO_COR_RACA_ALUNO': 'float64',\n",
        "       'CO_NACIONALIDADE_ALUNO': 'float64',\n",
        "       'CO_PAIS_ORIGEM_ALUNO': 'float64',\n",
        "       'CO_SEMESTRE_REFERENCIA': 'float64',\n",
        "       'CO_TIPO_ESCOLA_ENS_MEDIO': 'float64',\n",
        "       'IN_ALUNO_DEF_TGD_SUPER': 'float64',\n",
        "       'IN_APOIO_SOCIAL': 'float64',\n",
        "       'IN_ATIVIDADE_EXTRACURRICULAR': 'float64',\n",
        "       'IN_CONCLUINTE': 'float64',\n",
        "       'IN_INGRESSO_TOTAL': 'float64',\n",
        "       'IN_INGRESSO_VAGA_NOVA': 'float64',\n",
        "       'IN_ING_AVALIACAO_SERIADA': 'float64',\n",
        "       'IN_ING_DECISAO_JUDICIAL': 'float64',\n",
        "       'IN_ING_ENEM': 'float64',\n",
        "       'IN_ING_SELECAO_SIMPLIFICADA': 'float64',\n",
        "       'IN_ING_SELECAO_VAGA_PROG_ESPEC': 'float64',\n",
        "       'IN_ING_SELECAO_VAGA_REMANESC': 'float64',\n",
        "       'IN_ING_TRANSF_EXOFFICIO': 'float64',\n",
        "       'IN_ING_VESTIBULAR': 'float64',\n",
        "       'IN_MATRICULA': 'float64',\n",
        "       'IN_RESERVA_VAGAS': 'float64',\n",
        "       'IN_SEXO_ALUNO': 'float64',\n",
        "       'NU_ANO_ALUNO_NASC': 'float64',\n",
        "       'NU_DIA_ALUNO_NASC': 'float64',\n",
        "       'NU_IDADE_ALUNO': 'float64',\n",
        "       'NU_MES_ALUNO_NASC': 'float64',\n",
        "       'QT_CARGA_HORARIA_INTEG': 'float64',\n",
        "       'QT_CARGA_HORARIA_TOTAL': 'float64',\n",
        "       'IN_RESERVA_ETNICO' : 'object' }\n",
        "\n",
        "col_sel1= [\"CO_IES\",\"CO_ALUNO\",\"CO_CATEGORIA_ADMINISTRATIVA\",\"CO_CURSO\",\n",
        "           \"CO_NIVEL_ACADEMICO\",\"CO_COR_RACA_ALUNO\",\n",
        "           \"IN_SEXO_ALUNO\",\"IN_RESERVA_ETNICO\",\"IN_RESERVA_VAGAS\",\n",
        "           \"IN_APOIO_SOCIAL\"]\n",
        "\n",
        "col_sel2= [\"CO_IES\",\"ID_ALUNO\",\"TP_CATEGORIA_ADMINISTRATIVA\",\"CO_CURSO\",\n",
        "           \"TP_NIVEL_ACADEMICO\",\"TP_COR_RACA\",\n",
        "           \"TP_SEXO\",\"IN_RESERVA_ETNICO\",\"IN_RESERVA_VAGAS\",\n",
        "           \"IN_APOIO_SOCIAL\"]\n",
        "\n",
        "\n",
        "col_sel4= [\"CO_IES\",\"CO_ALUNO\",\"TP_CATEGORIA_ADMINISTRATIVA\",\"CO_CURSO\",\n",
        "           \"TP_NIVEL_ACADEMICO\",\"TP_COR_RACA\",\n",
        "           \"TP_SEXO\",\"IN_RESERVA_ETNICO\",\"IN_RESERVA_VAGAS\",\n",
        "           \"IN_APOIO_SOCIAL\"]\n"
      ],
      "execution_count": null,
      "outputs": []
    },
    {
      "cell_type": "markdown",
      "metadata": {
        "id": "ull5PUaK76_q"
      },
      "source": [
        "O Código que realiza isto está abaixo."
      ]
    },
    {
      "cell_type": "code",
      "metadata": {
        "id": "Z8pUhU-6N18I"
      },
      "source": [
        "datasets = []\n",
        "count = 0\n",
        "\n",
        "                      \n",
        "anos = [2009,2010,2011,2012,2013,2014,2015,2016,2017,2018,2019]\n",
        "                \n",
        "for arquivo in arquivos :\n",
        "   pedaco =dd.read_csv(arquivo,sep = \"|\",encoding=\"ISO-8859-1\",dtype = types)\n",
        "                       \n",
        "\n",
        "   if count in [0,1] :\n",
        "    pedaco = pedaco[col_sel1]\n",
        "   elif count in [2,3,4,5,6,7]  :\n",
        "    pedaco = pedaco[col_sel1]\n",
        "\n",
        "   elif count in [8] :\n",
        "    pedaco = pedaco[col_sel4]\n",
        "    \n",
        "\n",
        "   else:\n",
        "    pedaco = pedaco[col_sel2]\n",
        "\n",
        "\n",
        "  \n",
        "   pedaco[\"Ano\"] = anos[count]\n",
        "   colunas = [\"CO_IES\",\"CO_ALUNO\",\"Cat_Adm\",\"CO_CURSO\",\"Nivel_Aca\",\n",
        "              \"Cor/Raca\",\"Genero\",\"IN_RESERVA_ETNICO\",\"IN_RESERVA_VAGAS\",\"Apoio_Social\",\"Ano\"]\n",
        "   pedaco.columns =colunas\n",
        "   \n",
        "  \n",
        "   datasets.append(pedaco)\n",
        "   count += 1\n"
      ],
      "execution_count": null,
      "outputs": []
    },
    {
      "cell_type": "markdown",
      "metadata": {
        "id": "0xubFEej-NvF"
      },
      "source": [
        "Vamos então unir os datasets, pois padronizamos as colunas. Para isto usaremos a função concat."
      ]
    },
    {
      "cell_type": "code",
      "metadata": {
        "id": "LpZuzlLIQDgQ"
      },
      "source": [
        "dataAluno = dd.concat(datasets)\n"
      ],
      "execution_count": null,
      "outputs": []
    },
    {
      "cell_type": "markdown",
      "metadata": {
        "id": "NTfRW8QuAjQq"
      },
      "source": [
        "Temos cerca de 100 milhões de entradas, o que não é um fato correspondente com a realidade de alunos. Precisamos diminuir, eliminando o mesmo aluno, se contato duas vezes, vamos fazer isto, utilizando o método drop_duplicates do dask. Esse processo é longo, pois tem que gerar por todo o dataset.\n"
      ]
    },
    {
      "cell_type": "code",
      "metadata": {
        "id": "XtsjX4wsAicf",
        "colab": {
          "base_uri": "https://localhost:8080/"
        },
        "outputId": "5bc7314d-27c4-4b22-aae8-b2a71eff6935"
      },
      "source": [
        "print(f'Dataset com Duplicatas possui {len(dataAluno)} linhas')\n",
        "dataAluno = dataAluno.drop_duplicates(\"CO_ALUNO\")\n",
        "datafinal = dataAluno.compute()\n",
        "print(f'Dataset sem duplicatas possui {(datafinal.shape[0])} linhas')\n",
        "\n"
      ],
      "execution_count": null,
      "outputs": [
        {
          "output_type": "stream",
          "text": [
            "Dataset com Duplicatas possui 113190205 linhas\n",
            "Dataset sem duplicatas possui 44261224 linhas\n"
          ],
          "name": "stdout"
        }
      ]
    },
    {
      "cell_type": "markdown",
      "metadata": {
        "id": "tT_3tU3BUHQu"
      },
      "source": [
        "##Mexendo com Curso"
      ]
    },
    {
      "cell_type": "markdown",
      "metadata": {
        "id": "ZXQxgr3QU0KR"
      },
      "source": [
        "Na tabela de cursos nos interessa a princípio, apenas o identificador do Curso e o nome dele(NO_CURSO). Neste caso não temos diferenças nas nomeclaturas, o que facilita o processo"
      ]
    },
    {
      "cell_type": "code",
      "metadata": {
        "id": "0rKkW4L5Urcp"
      },
      "source": [
        "col_sel = [\"CO_CURSO\",\"NO_CURSO\"] #criando as variaveis\n",
        "types = {'CO_MUNICIPIO_CURSO': 'float64',\n",
        "       'CO_UF_CURSO': 'float64',\n",
        "       'IN_OFERECE_DISC_DISTANCIA': 'float64',\n",
        "       'QT_INSCRITOS_ANO': 'float64',\n",
        "       'CO_OCDE_AREA_DETALHADA': 'float64',\n",
        "       'NO_MUNICIPIO_CURSO': 'object',\n",
        "       'NO_REGIAO_CURSO': 'object',\n",
        "       'QT_INSCRITOS_ANO_EAD': 'float64',\n",
        "       'QT_VAGAS_ANUAL_EAD': 'float64',\n",
        "       'SGL_UF_CURSO': 'object',\n",
        "       'CO_OCDE_AREA_ESPECIFICA': 'float64',\n",
        "       'CO_OCDE_AREA_GERAL': 'float64',\n",
        "       'IN_GRATUITO': 'float64',\n",
        "       'CO_GRAU_ACADEMICO': 'float64',\n",
        "       'IN_INTEGRAL_CURSO': 'float64',\n",
        "       'IN_MATUTINO_CURSO': 'float64',\n",
        "       'IN_NOTURNO_CURSO': 'float64',\n",
        "       'IN_VESPERTINO_CURSO': 'float64',\n",
        "       'QT_CONCLUINTE_CURSO': 'float64',\n",
        "       'TP_ATRIBUTO_INGRESSO': 'float64'\n",
        "}"
      ],
      "execution_count": null,
      "outputs": []
    },
    {
      "cell_type": "markdown",
      "metadata": {
        "id": "sDS9UdXvVMrs"
      },
      "source": [
        "Criando o datasets por ano"
      ]
    },
    {
      "cell_type": "code",
      "metadata": {
        "id": "DsjKc9XhUmUr"
      },
      "source": [
        "datasets = []\n",
        "count = 0\n",
        "\n",
        "                      \n",
        "anos = [2009,2010,2011,2012,2013,2014,2015,2016,2017,2018,2019]\n",
        "                \n",
        "for arquivo in arquivos_CURSO :\n",
        "   pedaco =dd.read_csv(arquivo,sep = \"|\",encoding=\"ISO-8859-1\",dtype = types)                \n",
        "   pedaco = pedaco[col_sel]\n",
        "                                    \n",
        "   colunas = [\"CO_CURSO\",\"NO_CURSO\"]\n",
        "   pedaco.columns =colunas\n",
        "   datasets.append(pedaco)\n",
        "   count += 1\n",
        "\n"
      ],
      "execution_count": null,
      "outputs": []
    },
    {
      "cell_type": "markdown",
      "metadata": {
        "id": "-S5SKvaKVtKT"
      },
      "source": [
        "Concatenando numa variável"
      ]
    },
    {
      "cell_type": "code",
      "metadata": {
        "id": "_4nfodMK76Uf",
        "colab": {
          "base_uri": "https://localhost:8080/"
        },
        "outputId": "3411b5b8-80f0-47fb-8c6d-652024d8b38e"
      },
      "source": [
        "dataCurso = dd.concat(datasets)\n",
        "dataCurso.head()"
      ],
      "execution_count": null,
      "outputs": [
        {
          "output_type": "execute_result",
          "data": {
            "text/html": [
              "<div>\n",
              "<style scoped>\n",
              "    .dataframe tbody tr th:only-of-type {\n",
              "        vertical-align: middle;\n",
              "    }\n",
              "\n",
              "    .dataframe tbody tr th {\n",
              "        vertical-align: top;\n",
              "    }\n",
              "\n",
              "    .dataframe thead th {\n",
              "        text-align: right;\n",
              "    }\n",
              "</style>\n",
              "<table border=\"1\" class=\"dataframe\">\n",
              "  <thead>\n",
              "    <tr style=\"text-align: right;\">\n",
              "      <th></th>\n",
              "      <th>CO_CURSO</th>\n",
              "      <th>NO_CURSO</th>\n",
              "    </tr>\n",
              "  </thead>\n",
              "  <tbody>\n",
              "    <tr>\n",
              "      <th>0</th>\n",
              "      <td>10394</td>\n",
              "      <td>ENFERMAGEM</td>\n",
              "    </tr>\n",
              "    <tr>\n",
              "      <th>1</th>\n",
              "      <td>5615</td>\n",
              "      <td>DIREITO</td>\n",
              "    </tr>\n",
              "    <tr>\n",
              "      <th>2</th>\n",
              "      <td>5618</td>\n",
              "      <td>LETRAS</td>\n",
              "    </tr>\n",
              "    <tr>\n",
              "      <th>3</th>\n",
              "      <td>18064</td>\n",
              "      <td>HISTORIA</td>\n",
              "    </tr>\n",
              "    <tr>\n",
              "      <th>4</th>\n",
              "      <td>5625</td>\n",
              "      <td>ENGENHARIA QUIMICA</td>\n",
              "    </tr>\n",
              "  </tbody>\n",
              "</table>\n",
              "</div>"
            ],
            "text/plain": [
              "   CO_CURSO            NO_CURSO\n",
              "0     10394          ENFERMAGEM\n",
              "1      5615             DIREITO\n",
              "2      5618              LETRAS\n",
              "3     18064            HISTORIA\n",
              "4      5625  ENGENHARIA QUIMICA"
            ]
          },
          "metadata": {
            "tags": []
          },
          "execution_count": 26
        }
      ]
    },
    {
      "cell_type": "markdown",
      "metadata": {
        "id": "6MtVDIlwV1ik"
      },
      "source": [
        "Ao contrário dos Alunos, temos um dataset relativamente pequeno, não precisando, desta forma, mudar os  tipos. O trabalho com cursos está feito."
      ]
    },
    {
      "cell_type": "markdown",
      "metadata": {
        "id": "bQLETsuaT_Lq"
      },
      "source": [
        "Vamos utilizar um método semelhante para os cursos e IES"
      ]
    },
    {
      "cell_type": "markdown",
      "metadata": {
        "id": "oHaXTa8TUKyN"
      },
      "source": [
        "##Mexendo com IES"
      ]
    },
    {
      "cell_type": "markdown",
      "metadata": {
        "id": "RyyWFS0-WOPs"
      },
      "source": [
        "Neste dataset eu tenho interesse em algumas variáveis a saber :\n",
        "\n",
        "* CO_IES - Identificador do Instituto\n",
        "\n",
        "* NO_IES - Nome do Instituto\n",
        "\n",
        "* CO_MUNICIPIO_IES - Municipio onde se localiza o Instituto\n",
        "\n",
        "* CO_UF_IES - Estado onde se localiza o Instituto\n",
        "\n",
        "* IN_CAPITAL_IES - Indica se o Instituto esta localizado em uma capital do país.\n",
        "\n"
      ]
    },
    {
      "cell_type": "code",
      "metadata": {
        "id": "l5akj5i45QwX"
      },
      "source": [
        "col_sel1 = ['CO_IES', 'NO_IES', 'CO_MUNICIPIO_IES', 'CO_UF_IES',\n",
        "        'IN_CAPITAL_IES']\n",
        "col_sel2 =  ['CO_IES', 'NO_IES', 'CO_MUNICIPIO', 'CO_UF',\n",
        "        'IN_CAPITAL']"
      ],
      "execution_count": null,
      "outputs": []
    },
    {
      "cell_type": "markdown",
      "metadata": {
        "id": "4GrvUgV7XYe1"
      },
      "source": [
        "Gerando o dataset por ano"
      ]
    },
    {
      "cell_type": "code",
      "metadata": {
        "id": "g-ZnkS9FURPo"
      },
      "source": [
        "datasets = []\n",
        "count = 0\n",
        "\n",
        "                      \n",
        "anos = [2009,2010,2011,2012,2013,2014,2015,2016,2017,2018,2019]\n",
        "                \n",
        "for arquivo in arquivos_IES :\n",
        "   pedaco =dd.read_csv(arquivo,sep = \"|\",encoding=\"ISO-8859-1\")   \n",
        "   if count <8 :             \n",
        "    pedaco = pedaco[col_sel1]\n",
        "   else :\n",
        "    pedaco =pedaco[col_sel2]\n",
        "                                    \n",
        "   colunas = ['CO_IES', 'NO_IES', 'CO_MUNICIPIO_IES', 'CO_UF_IES',\n",
        "        'IN_CAPITAL_IES']\n",
        "   pedaco.columns =colunas\n",
        "   datasets.append(pedaco)\n",
        "   count += 1\n"
      ],
      "execution_count": null,
      "outputs": []
    },
    {
      "cell_type": "markdown",
      "metadata": {
        "id": "1o-w4mpnXkFw"
      },
      "source": [
        "Juntando os datasets"
      ]
    },
    {
      "cell_type": "code",
      "metadata": {
        "id": "A3nLmMOpXjZA",
        "colab": {
          "base_uri": "https://localhost:8080/"
        },
        "outputId": "56e0fee6-c7a4-4131-88ff-40a6b6359bc8"
      },
      "source": [
        "dataIES = dd.concat(datasets)\n",
        "dataIES.head()"
      ],
      "execution_count": null,
      "outputs": [
        {
          "output_type": "execute_result",
          "data": {
            "text/html": [
              "<div>\n",
              "<style scoped>\n",
              "    .dataframe tbody tr th:only-of-type {\n",
              "        vertical-align: middle;\n",
              "    }\n",
              "\n",
              "    .dataframe tbody tr th {\n",
              "        vertical-align: top;\n",
              "    }\n",
              "\n",
              "    .dataframe thead th {\n",
              "        text-align: right;\n",
              "    }\n",
              "</style>\n",
              "<table border=\"1\" class=\"dataframe\">\n",
              "  <thead>\n",
              "    <tr style=\"text-align: right;\">\n",
              "      <th></th>\n",
              "      <th>CO_IES</th>\n",
              "      <th>NO_IES</th>\n",
              "      <th>CO_MUNICIPIO_IES</th>\n",
              "      <th>CO_UF_IES</th>\n",
              "      <th>IN_CAPITAL_IES</th>\n",
              "    </tr>\n",
              "  </thead>\n",
              "  <tbody>\n",
              "    <tr>\n",
              "      <th>0</th>\n",
              "      <td>699</td>\n",
              "      <td>FUNDACAO UNIVERSIDADE FEDERAL DE RONDONIA</td>\n",
              "      <td>1100205</td>\n",
              "      <td>11</td>\n",
              "      <td>1</td>\n",
              "    </tr>\n",
              "    <tr>\n",
              "      <th>1</th>\n",
              "      <td>1028</td>\n",
              "      <td>UNIVERSIDADE ESTADUAL DE MATO GROSSO DO SUL</td>\n",
              "      <td>5003702</td>\n",
              "      <td>50</td>\n",
              "      <td>0</td>\n",
              "    </tr>\n",
              "    <tr>\n",
              "      <th>2</th>\n",
              "      <td>1189</td>\n",
              "      <td>UNIVERSIDADE DO PLANALTO CATARINENSE</td>\n",
              "      <td>4209300</td>\n",
              "      <td>42</td>\n",
              "      <td>0</td>\n",
              "    </tr>\n",
              "    <tr>\n",
              "      <th>3</th>\n",
              "      <td>275</td>\n",
              "      <td>UNIVERSIDADE DO VALE DO PARAIBA</td>\n",
              "      <td>3549904</td>\n",
              "      <td>35</td>\n",
              "      <td>0</td>\n",
              "    </tr>\n",
              "    <tr>\n",
              "      <th>4</th>\n",
              "      <td>580</td>\n",
              "      <td>UNIVERSIDADE FEDERAL DE PERNAMBUCO</td>\n",
              "      <td>2611606</td>\n",
              "      <td>26</td>\n",
              "      <td>1</td>\n",
              "    </tr>\n",
              "  </tbody>\n",
              "</table>\n",
              "</div>"
            ],
            "text/plain": [
              "   CO_IES  ... IN_CAPITAL_IES\n",
              "0     699  ...              1\n",
              "1    1028  ...              0\n",
              "2    1189  ...              0\n",
              "3     275  ...              0\n",
              "4     580  ...              1\n",
              "\n",
              "[5 rows x 5 columns]"
            ]
          },
          "metadata": {
            "tags": []
          },
          "execution_count": 29
        }
      ]
    },
    {
      "cell_type": "code",
      "metadata": {
        "id": "wmjlASccXrSw",
        "colab": {
          "base_uri": "https://localhost:8080/"
        },
        "outputId": "bcc778ad-6d94-41c1-e019-af8222ccf040"
      },
      "source": [
        "dataIES.info"
      ],
      "execution_count": null,
      "outputs": [
        {
          "output_type": "execute_result",
          "data": {
            "text/plain": [
              "<bound method DataFrame.info of Dask DataFrame Structure:\n",
              "               CO_IES  NO_IES CO_MUNICIPIO_IES CO_UF_IES IN_CAPITAL_IES\n",
              "npartitions=11                                                         \n",
              "                int64  object            int64     int64          int64\n",
              "                  ...     ...              ...       ...            ...\n",
              "...               ...     ...              ...       ...            ...\n",
              "                  ...     ...              ...       ...            ...\n",
              "                  ...     ...              ...       ...            ...\n",
              "Dask Name: concat, 66 tasks>"
            ]
          },
          "metadata": {
            "tags": []
          },
          "execution_count": 30
        }
      ]
    },
    {
      "cell_type": "markdown",
      "metadata": {
        "id": "APPyV4DpXtl1"
      },
      "source": [
        "Olhando para os tipos de dados, temos que a variavel IN_CAPITAL_IES está como float64, sendo que ela aceita apenas 2 valores. Vamos transformá-las em uma coluna boolena."
      ]
    },
    {
      "cell_type": "code",
      "metadata": {
        "id": "xAQKe41cX7z0"
      },
      "source": [
        "dataIES.IN_CAPITAL_IES= dataIES.IN_CAPITAL_IES.astype('bool')\n"
      ],
      "execution_count": null,
      "outputs": []
    },
    {
      "cell_type": "markdown",
      "metadata": {
        "id": "97ass1WVYIkc"
      },
      "source": [
        "Finalizando a criação dos 3 datasets vamos uní-los em apenas um com as informações úteis."
      ]
    },
    {
      "cell_type": "markdown",
      "metadata": {
        "id": "cstZ7SrUYRGU"
      },
      "source": [
        "## Juntando os datasets e fazendo uma pré limpeza\n"
      ]
    },
    {
      "cell_type": "markdown",
      "metadata": {
        "id": "pxsYDTldYV9a"
      },
      "source": [
        "Vamos olhar o início dos nossos datasets"
      ]
    },
    {
      "cell_type": "code",
      "metadata": {
        "id": "yhBi6E5RYaO3",
        "colab": {
          "base_uri": "https://localhost:8080/"
        },
        "outputId": "ff802172-995e-40e2-fb55-aceae01e2eec"
      },
      "source": [
        "print(dataIES.head(1))\n",
        "print(dataCurso.head(1))\n",
        "print(datafinal.head(1))"
      ],
      "execution_count": null,
      "outputs": [
        {
          "output_type": "stream",
          "text": [
            "   CO_IES                                     NO_IES  ...  CO_UF_IES  IN_CAPITAL_IES\n",
            "0     699  FUNDACAO UNIVERSIDADE FEDERAL DE RONDONIA  ...         11            True\n",
            "\n",
            "[1 rows x 5 columns]\n",
            "   CO_CURSO    NO_CURSO\n",
            "0     10394  ENFERMAGEM\n",
            "   CO_IES      CO_ALUNO  Cat_Adm  ...  IN_RESERVA_VAGAS  Apoio_Social   Ano\n",
            "0     780  400000004203        4  ...               0.0           0.0  2009\n",
            "\n",
            "[1 rows x 11 columns]\n"
          ],
          "name": "stdout"
        }
      ]
    },
    {
      "cell_type": "markdown",
      "metadata": {
        "id": "jp34EzpKkku1"
      },
      "source": [
        "Vemos que no dataset de Cursos e no dataAluno temos em ambos as variáveis CO_CURSO. Como Curso tem apenas duas colunas, podemos fazer um dicionário com estas colunas, fazer uma associação e colocar a coluna Curso no dataset Aluno. Vamos criar uma função para fazer isto pois pode ser úil futuramente. Importante notar que a função criada utiliza dataframe do pandas, logo precisamos transformar o dataframe do dask em um dataframe do pandas atraves do método compute."
      ]
    },
    {
      "cell_type": "code",
      "metadata": {
        "id": "dQP8kpNMlZp9"
      },
      "source": [
        "#@Criando a função\n",
        "def dictColuna(datasetvelho,datasetNovo,coluna1,coluna2,nomeNovaColuna) :\n",
        "  datax = datasetvelho.set_index(coluna1).to_dict()[coluna2]\n",
        "  a = datasetNovo[coluna1].map(datax)\n",
        "  datasetNovo[nomeNovaColuna] = a\n",
        "  "
      ],
      "execution_count": null,
      "outputs": []
    },
    {
      "cell_type": "code",
      "metadata": {
        "id": "yFRnKHvu8PuO"
      },
      "source": [
        "dataCursoLimpo = dataCurso.compute()"
      ],
      "execution_count": null,
      "outputs": []
    },
    {
      "cell_type": "markdown",
      "metadata": {
        "id": "wCy8N60-mLUz"
      },
      "source": [
        "Aplicando a função"
      ]
    },
    {
      "cell_type": "code",
      "metadata": {
        "id": "l1ZJbeu1YZMx"
      },
      "source": [
        "dictColuna(dataCursoLimpo,datafinal,\"CO_CURSO\",\"NO_CURSO\",\"Nome_Curso\")\n",
        "\n"
      ],
      "execution_count": null,
      "outputs": []
    },
    {
      "cell_type": "markdown",
      "metadata": {
        "id": "EZDZri5D-dJg"
      },
      "source": [
        "Vendo o resultado "
      ]
    },
    {
      "cell_type": "code",
      "metadata": {
        "id": "V9FDYCz8-UNu",
        "colab": {
          "base_uri": "https://localhost:8080/",
          "height": 279
        },
        "outputId": "a2ced03b-2f40-4c91-a28a-49fe9cca4a11"
      },
      "source": [
        "datafinal.head()"
      ],
      "execution_count": null,
      "outputs": [
        {
          "output_type": "execute_result",
          "data": {
            "text/html": [
              "<div>\n",
              "<style scoped>\n",
              "    .dataframe tbody tr th:only-of-type {\n",
              "        vertical-align: middle;\n",
              "    }\n",
              "\n",
              "    .dataframe tbody tr th {\n",
              "        vertical-align: top;\n",
              "    }\n",
              "\n",
              "    .dataframe thead th {\n",
              "        text-align: right;\n",
              "    }\n",
              "</style>\n",
              "<table border=\"1\" class=\"dataframe\">\n",
              "  <thead>\n",
              "    <tr style=\"text-align: right;\">\n",
              "      <th></th>\n",
              "      <th>CO_IES</th>\n",
              "      <th>CO_ALUNO</th>\n",
              "      <th>Cat_Adm</th>\n",
              "      <th>CO_CURSO</th>\n",
              "      <th>Nivel_Aca</th>\n",
              "      <th>Cor/Raca</th>\n",
              "      <th>Genero</th>\n",
              "      <th>IN_RESERVA_ETNICO</th>\n",
              "      <th>IN_RESERVA_VAGAS</th>\n",
              "      <th>Apoio_Social</th>\n",
              "      <th>Ano</th>\n",
              "      <th>Nome_Curso</th>\n",
              "    </tr>\n",
              "  </thead>\n",
              "  <tbody>\n",
              "    <tr>\n",
              "      <th>0</th>\n",
              "      <td>780</td>\n",
              "      <td>400000004203</td>\n",
              "      <td>4</td>\n",
              "      <td>18471</td>\n",
              "      <td>1</td>\n",
              "      <td>2.0</td>\n",
              "      <td>1.0</td>\n",
              "      <td>0</td>\n",
              "      <td>0.0</td>\n",
              "      <td>0.0</td>\n",
              "      <td>2009</td>\n",
              "      <td>ARQUITETURA E URBANISMO</td>\n",
              "    </tr>\n",
              "    <tr>\n",
              "      <th>1</th>\n",
              "      <td>570</td>\n",
              "      <td>400000004213</td>\n",
              "      <td>1</td>\n",
              "      <td>40171</td>\n",
              "      <td>1</td>\n",
              "      <td>6.0</td>\n",
              "      <td>0.0</td>\n",
              "      <td>0</td>\n",
              "      <td>0.0</td>\n",
              "      <td>0.0</td>\n",
              "      <td>2009</td>\n",
              "      <td>ENGENHARIA DA COMPUTAÇÃO</td>\n",
              "    </tr>\n",
              "    <tr>\n",
              "      <th>2</th>\n",
              "      <td>316</td>\n",
              "      <td>400000004239</td>\n",
              "      <td>4</td>\n",
              "      <td>82227</td>\n",
              "      <td>1</td>\n",
              "      <td>0.0</td>\n",
              "      <td>1.0</td>\n",
              "      <td>0</td>\n",
              "      <td>0.0</td>\n",
              "      <td>0.0</td>\n",
              "      <td>2009</td>\n",
              "      <td>ODONTOLOGIA</td>\n",
              "    </tr>\n",
              "    <tr>\n",
              "      <th>3</th>\n",
              "      <td>670</td>\n",
              "      <td>400000004262</td>\n",
              "      <td>6</td>\n",
              "      <td>15474</td>\n",
              "      <td>1</td>\n",
              "      <td>6.0</td>\n",
              "      <td>0.0</td>\n",
              "      <td>0</td>\n",
              "      <td>0.0</td>\n",
              "      <td>0.0</td>\n",
              "      <td>2009</td>\n",
              "      <td>ADMINISTRAÇÃO</td>\n",
              "    </tr>\n",
              "    <tr>\n",
              "      <th>4</th>\n",
              "      <td>1131</td>\n",
              "      <td>400000004269</td>\n",
              "      <td>4</td>\n",
              "      <td>86830</td>\n",
              "      <td>1</td>\n",
              "      <td>1.0</td>\n",
              "      <td>1.0</td>\n",
              "      <td>0</td>\n",
              "      <td>0.0</td>\n",
              "      <td>0.0</td>\n",
              "      <td>2009</td>\n",
              "      <td>ENFERMAGEM</td>\n",
              "    </tr>\n",
              "  </tbody>\n",
              "</table>\n",
              "</div>"
            ],
            "text/plain": [
              "   CO_IES      CO_ALUNO  Cat_Adm  ...  Apoio_Social   Ano                Nome_Curso\n",
              "0     780  400000004203        4  ...           0.0  2009   ARQUITETURA E URBANISMO\n",
              "1     570  400000004213        1  ...           0.0  2009  ENGENHARIA DA COMPUTAÇÃO\n",
              "2     316  400000004239        4  ...           0.0  2009               ODONTOLOGIA\n",
              "3     670  400000004262        6  ...           0.0  2009             ADMINISTRAÇÃO\n",
              "4    1131  400000004269        4  ...           0.0  2009                ENFERMAGEM\n",
              "\n",
              "[5 rows x 12 columns]"
            ]
          },
          "metadata": {
            "tags": []
          },
          "execution_count": 36
        }
      ]
    },
    {
      "cell_type": "markdown",
      "metadata": {
        "id": "fUZ6U4_n-g0I"
      },
      "source": [
        "Vemos que foi adicionada uma coluna com o Curso. O Código funcionou bem, faremos parecido com os dados de IES"
      ]
    },
    {
      "cell_type": "markdown",
      "metadata": {
        "id": "zB1_IjAnvo_P"
      },
      "source": [
        "No dataset referente as IES, temos as variáveis CO_MUNICIPIO_IES e CO_UF_IES que são os códigos do IBGE para cidades e estados. O código sozinho não nos dá uma informação útil, vamos utilizar a função criada anteriormente com uma tabela de correlação, para transformar estes Códigos em Cidades e Estados que dão informação"
      ]
    },
    {
      "cell_type": "code",
      "metadata": {
        "id": "kvcNUSURwYWm"
      },
      "source": [
        "url = \"https://raw.githubusercontent.com/kelvins/Municipios-Brasileiros/main/csv/estados.csv\" #estados IBGE\n",
        "datasEstados = pd.read_csv(url,sep=\",\",usecols = [\"codigo_uf\",\"uf\"])\n",
        "url =  \"https://raw.githubusercontent.com/kelvins/Municipios-Brasileiros/main/csv/municipios.csv\" #municipios\n",
        "datasMunicipios = pd.read_csv(url,sep = \",\", usecols = [\"codigo_ibge\",\"nome\"])\n",
        "datasEstados.columns = [\"CO_UF_IES\",\"uf\"]\n",
        "datasMunicipios.columns = [\"CO_MUNICIPIO_IES\",\"cidade\"]\n",
        "\n"
      ],
      "execution_count": null,
      "outputs": []
    },
    {
      "cell_type": "markdown",
      "metadata": {
        "id": "Gvw0AcaJwrk0"
      },
      "source": [
        "Utilizando o código para os estados e municipios"
      ]
    },
    {
      "cell_type": "code",
      "metadata": {
        "id": "bGNedwI0wePN"
      },
      "source": [
        "dictColuna(datasEstados,dataIES,\"CO_UF_IES\",\"uf\",\"UF\")\n",
        "dictColuna(datasMunicipios,dataIES,\"CO_MUNICIPIO_IES\",\"cidade\",\"Cidade\")\n"
      ],
      "execution_count": null,
      "outputs": []
    },
    {
      "cell_type": "code",
      "metadata": {
        "id": "rjfkSv2s-3oE",
        "colab": {
          "base_uri": "https://localhost:8080/",
          "height": 206
        },
        "outputId": "fbdea881-e8ec-4a96-a69e-ce99c9c6b6ad"
      },
      "source": [
        "dataIES.head()"
      ],
      "execution_count": null,
      "outputs": [
        {
          "output_type": "execute_result",
          "data": {
            "text/html": [
              "<div>\n",
              "<style scoped>\n",
              "    .dataframe tbody tr th:only-of-type {\n",
              "        vertical-align: middle;\n",
              "    }\n",
              "\n",
              "    .dataframe tbody tr th {\n",
              "        vertical-align: top;\n",
              "    }\n",
              "\n",
              "    .dataframe thead th {\n",
              "        text-align: right;\n",
              "    }\n",
              "</style>\n",
              "<table border=\"1\" class=\"dataframe\">\n",
              "  <thead>\n",
              "    <tr style=\"text-align: right;\">\n",
              "      <th></th>\n",
              "      <th>CO_IES</th>\n",
              "      <th>NO_IES</th>\n",
              "      <th>CO_MUNICIPIO_IES</th>\n",
              "      <th>CO_UF_IES</th>\n",
              "      <th>IN_CAPITAL_IES</th>\n",
              "      <th>UF</th>\n",
              "      <th>Cidade</th>\n",
              "    </tr>\n",
              "  </thead>\n",
              "  <tbody>\n",
              "    <tr>\n",
              "      <th>0</th>\n",
              "      <td>699</td>\n",
              "      <td>FUNDACAO UNIVERSIDADE FEDERAL DE RONDONIA</td>\n",
              "      <td>1100205</td>\n",
              "      <td>11</td>\n",
              "      <td>True</td>\n",
              "      <td>RO</td>\n",
              "      <td>Porto Velho</td>\n",
              "    </tr>\n",
              "    <tr>\n",
              "      <th>1</th>\n",
              "      <td>1028</td>\n",
              "      <td>UNIVERSIDADE ESTADUAL DE MATO GROSSO DO SUL</td>\n",
              "      <td>5003702</td>\n",
              "      <td>50</td>\n",
              "      <td>False</td>\n",
              "      <td>MS</td>\n",
              "      <td>Dourados</td>\n",
              "    </tr>\n",
              "    <tr>\n",
              "      <th>2</th>\n",
              "      <td>1189</td>\n",
              "      <td>UNIVERSIDADE DO PLANALTO CATARINENSE</td>\n",
              "      <td>4209300</td>\n",
              "      <td>42</td>\n",
              "      <td>False</td>\n",
              "      <td>SC</td>\n",
              "      <td>Lages</td>\n",
              "    </tr>\n",
              "    <tr>\n",
              "      <th>3</th>\n",
              "      <td>275</td>\n",
              "      <td>UNIVERSIDADE DO VALE DO PARAIBA</td>\n",
              "      <td>3549904</td>\n",
              "      <td>35</td>\n",
              "      <td>False</td>\n",
              "      <td>SP</td>\n",
              "      <td>São José dos Campos</td>\n",
              "    </tr>\n",
              "    <tr>\n",
              "      <th>4</th>\n",
              "      <td>580</td>\n",
              "      <td>UNIVERSIDADE FEDERAL DE PERNAMBUCO</td>\n",
              "      <td>2611606</td>\n",
              "      <td>26</td>\n",
              "      <td>True</td>\n",
              "      <td>PE</td>\n",
              "      <td>Recife</td>\n",
              "    </tr>\n",
              "  </tbody>\n",
              "</table>\n",
              "</div>"
            ],
            "text/plain": [
              "   CO_IES                                       NO_IES  ...  UF               Cidade\n",
              "0     699    FUNDACAO UNIVERSIDADE FEDERAL DE RONDONIA  ...  RO          Porto Velho\n",
              "1    1028  UNIVERSIDADE ESTADUAL DE MATO GROSSO DO SUL  ...  MS             Dourados\n",
              "2    1189         UNIVERSIDADE DO PLANALTO CATARINENSE  ...  SC                Lages\n",
              "3     275              UNIVERSIDADE DO VALE DO PARAIBA  ...  SP  São José dos Campos\n",
              "4     580           UNIVERSIDADE FEDERAL DE PERNAMBUCO  ...  PE               Recife\n",
              "\n",
              "[5 rows x 7 columns]"
            ]
          },
          "metadata": {
            "tags": []
          },
          "execution_count": 39
        }
      ]
    },
    {
      "cell_type": "markdown",
      "metadata": {
        "id": "FtGruNu_ya0G"
      },
      "source": [
        "Com essas modificações, as colunas CO_UF_IES e CO_MUNICIPIO_IES não se tornam mais úteis, iremos dropa-las."
      ]
    },
    {
      "cell_type": "code",
      "metadata": {
        "id": "qFje7qS_yaCI"
      },
      "source": [
        "dataIESClean = dataIES.drop(columns = [\"CO_UF_IES\",\"CO_MUNICIPIO_IES\"])\n"
      ],
      "execution_count": null,
      "outputs": []
    },
    {
      "cell_type": "markdown",
      "metadata": {
        "id": "MpFQI6v8y4P9"
      },
      "source": [
        "Semelhante ao Curso, temos que CO_IES aparece em ambos os datasets, tanto referente aos Institutos, quanto referente aos Alunos. Vamos utilizar nosso código de dicionário para juntar as informações relevantes.\n"
      ]
    },
    {
      "cell_type": "code",
      "metadata": {
        "id": "89GoMS0v_LKt"
      },
      "source": [
        "dataIESClean = dataIESClean.compute()"
      ],
      "execution_count": null,
      "outputs": []
    },
    {
      "cell_type": "code",
      "metadata": {
        "id": "hJhVk6rezQdu"
      },
      "source": [
        "colunasVelhas = [\"NO_IES\",\"Cidade\",\"UF\",\"IN_CAPITAL_IES\"]\n",
        "colunasNovas = [\"Nome_Instituição\",\"Municipio\",\"UF\",\"CAPITAL\"]\n",
        "for number in range(len(colunasVelhas)) :\n",
        "  dictColuna(dataIESClean,datafinal,\"CO_IES\",colunasVelhas[number],colunasNovas[number])\n",
        "\n"
      ],
      "execution_count": null,
      "outputs": []
    },
    {
      "cell_type": "markdown",
      "metadata": {
        "id": "uM9SeEMi0FXs"
      },
      "source": [
        "Vamos olhar o dataset Resultante da junção dos datasets."
      ]
    },
    {
      "cell_type": "code",
      "metadata": {
        "id": "navyI6YC0Jls",
        "colab": {
          "base_uri": "https://localhost:8080/",
          "height": 383
        },
        "outputId": "b62544ac-8043-43df-c165-70d309789c68"
      },
      "source": [
        "datafinal.head()\n"
      ],
      "execution_count": null,
      "outputs": [
        {
          "output_type": "execute_result",
          "data": {
            "text/html": [
              "<div>\n",
              "<style scoped>\n",
              "    .dataframe tbody tr th:only-of-type {\n",
              "        vertical-align: middle;\n",
              "    }\n",
              "\n",
              "    .dataframe tbody tr th {\n",
              "        vertical-align: top;\n",
              "    }\n",
              "\n",
              "    .dataframe thead th {\n",
              "        text-align: right;\n",
              "    }\n",
              "</style>\n",
              "<table border=\"1\" class=\"dataframe\">\n",
              "  <thead>\n",
              "    <tr style=\"text-align: right;\">\n",
              "      <th></th>\n",
              "      <th>CO_IES</th>\n",
              "      <th>CO_ALUNO</th>\n",
              "      <th>Cat_Adm</th>\n",
              "      <th>CO_CURSO</th>\n",
              "      <th>Nivel_Aca</th>\n",
              "      <th>Cor/Raca</th>\n",
              "      <th>Genero</th>\n",
              "      <th>IN_RESERVA_ETNICO</th>\n",
              "      <th>IN_RESERVA_VAGAS</th>\n",
              "      <th>Apoio_Social</th>\n",
              "      <th>Ano</th>\n",
              "      <th>Nome_Curso</th>\n",
              "      <th>Nome_Instituição</th>\n",
              "      <th>Municipio</th>\n",
              "      <th>UF</th>\n",
              "      <th>CAPITAL</th>\n",
              "    </tr>\n",
              "  </thead>\n",
              "  <tbody>\n",
              "    <tr>\n",
              "      <th>0</th>\n",
              "      <td>780</td>\n",
              "      <td>400000004203</td>\n",
              "      <td>4</td>\n",
              "      <td>18471</td>\n",
              "      <td>1</td>\n",
              "      <td>2.0</td>\n",
              "      <td>1.0</td>\n",
              "      <td>0</td>\n",
              "      <td>0.0</td>\n",
              "      <td>0.0</td>\n",
              "      <td>2009</td>\n",
              "      <td>ARQUITETURA E URBANISMO</td>\n",
              "      <td>UNIVERSIDADE DE CUIABÁ</td>\n",
              "      <td>Cuiabá</td>\n",
              "      <td>MT</td>\n",
              "      <td>True</td>\n",
              "    </tr>\n",
              "    <tr>\n",
              "      <th>1</th>\n",
              "      <td>570</td>\n",
              "      <td>400000004213</td>\n",
              "      <td>1</td>\n",
              "      <td>40171</td>\n",
              "      <td>1</td>\n",
              "      <td>6.0</td>\n",
              "      <td>0.0</td>\n",
              "      <td>0</td>\n",
              "      <td>0.0</td>\n",
              "      <td>0.0</td>\n",
              "      <td>2009</td>\n",
              "      <td>ENGENHARIA DA COMPUTAÇÃO</td>\n",
              "      <td>UNIVERSIDADE FEDERAL DO RIO GRANDE DO NORTE</td>\n",
              "      <td>Natal</td>\n",
              "      <td>RN</td>\n",
              "      <td>True</td>\n",
              "    </tr>\n",
              "    <tr>\n",
              "      <th>2</th>\n",
              "      <td>316</td>\n",
              "      <td>400000004239</td>\n",
              "      <td>4</td>\n",
              "      <td>82227</td>\n",
              "      <td>1</td>\n",
              "      <td>0.0</td>\n",
              "      <td>1.0</td>\n",
              "      <td>0</td>\n",
              "      <td>0.0</td>\n",
              "      <td>0.0</td>\n",
              "      <td>2009</td>\n",
              "      <td>ODONTOLOGIA</td>\n",
              "      <td>UNIVERSIDADE NOVE DE JULHO</td>\n",
              "      <td>São Paulo</td>\n",
              "      <td>SP</td>\n",
              "      <td>True</td>\n",
              "    </tr>\n",
              "    <tr>\n",
              "      <th>3</th>\n",
              "      <td>670</td>\n",
              "      <td>400000004262</td>\n",
              "      <td>6</td>\n",
              "      <td>15474</td>\n",
              "      <td>1</td>\n",
              "      <td>6.0</td>\n",
              "      <td>0.0</td>\n",
              "      <td>0</td>\n",
              "      <td>0.0</td>\n",
              "      <td>0.0</td>\n",
              "      <td>2009</td>\n",
              "      <td>ADMINISTRAÇÃO</td>\n",
              "      <td>UNIVERSIDADE SÃO FRANCISCO</td>\n",
              "      <td>Bragança Paulista</td>\n",
              "      <td>SP</td>\n",
              "      <td>False</td>\n",
              "    </tr>\n",
              "    <tr>\n",
              "      <th>4</th>\n",
              "      <td>1131</td>\n",
              "      <td>400000004269</td>\n",
              "      <td>4</td>\n",
              "      <td>86830</td>\n",
              "      <td>1</td>\n",
              "      <td>1.0</td>\n",
              "      <td>1.0</td>\n",
              "      <td>0</td>\n",
              "      <td>0.0</td>\n",
              "      <td>0.0</td>\n",
              "      <td>2009</td>\n",
              "      <td>ENFERMAGEM</td>\n",
              "      <td>CENTRO UNIVERSITÁRIO SANTO AGOSTINHO</td>\n",
              "      <td>Teresina</td>\n",
              "      <td>PI</td>\n",
              "      <td>True</td>\n",
              "    </tr>\n",
              "  </tbody>\n",
              "</table>\n",
              "</div>"
            ],
            "text/plain": [
              "   CO_IES      CO_ALUNO  Cat_Adm  ...          Municipio  UF  CAPITAL\n",
              "0     780  400000004203        4  ...             Cuiabá  MT     True\n",
              "1     570  400000004213        1  ...              Natal  RN     True\n",
              "2     316  400000004239        4  ...          São Paulo  SP     True\n",
              "3     670  400000004262        6  ...  Bragança Paulista  SP    False\n",
              "4    1131  400000004269        4  ...           Teresina  PI     True\n",
              "\n",
              "[5 rows x 16 columns]"
            ]
          },
          "metadata": {
            "tags": []
          },
          "execution_count": 43
        }
      ]
    },
    {
      "cell_type": "markdown",
      "metadata": {
        "id": "A1EVT27BRS1l"
      },
      "source": [
        "Por fim irei criar uma nova coluna, que indicar se o aluno ingressou na faculdade através de Cotas Raciais. Este dado não é igual ao dado referente em IN_Reserva_Etnico pois esta coluna possui vários valores nulos, que não foram prenchidos pois em IN_Reserva_Vagas já foi indicado uma negativa. Para um aluno se enquadrar na categoria de Cota Racial ele precisa prencher dois requisitos :\n",
        "\n",
        "1  IN_Reserva_Vagas = True\n",
        "\n",
        "2  IN_Reserva_Etnico = 1\n",
        "\n",
        "Vamos fazer isto no código abaixo."
      ]
    },
    {
      "cell_type": "code",
      "metadata": {
        "id": "H9SpC8h5Sd_N",
        "colab": {
          "base_uri": "https://localhost:8080/",
          "height": 153
        },
        "outputId": "41e2dced-99ba-4468-d627-9f64ca4a7b74"
      },
      "source": [
        "print(f\"Quantidade de Valores Nulos em IN_Reserva_Etnico \\n {datafinal.IN_RESERVA_ETNICO.isna().sum()} \")\n",
        "datafinal['Cota_Racial'] = 0 #iniciando a coluna\n",
        "datafinal.loc[((datafinal[\"IN_RESERVA_ETNICO\"] ==  '1') & (datafinal[\"IN_RESERVA_VAGAS\"] == True)),\n",
        "                     \"Cota_Racial\"] = 1            \n",
        "datafinal.head(1)"
      ],
      "execution_count": null,
      "outputs": [
        {
          "output_type": "stream",
          "text": [
            "Quantidade de Valores Nulos em IN_Reserva_Etnico \n",
            " 35791578 \n"
          ],
          "name": "stdout"
        },
        {
          "output_type": "execute_result",
          "data": {
            "text/html": [
              "<div>\n",
              "<style scoped>\n",
              "    .dataframe tbody tr th:only-of-type {\n",
              "        vertical-align: middle;\n",
              "    }\n",
              "\n",
              "    .dataframe tbody tr th {\n",
              "        vertical-align: top;\n",
              "    }\n",
              "\n",
              "    .dataframe thead th {\n",
              "        text-align: right;\n",
              "    }\n",
              "</style>\n",
              "<table border=\"1\" class=\"dataframe\">\n",
              "  <thead>\n",
              "    <tr style=\"text-align: right;\">\n",
              "      <th></th>\n",
              "      <th>CO_IES</th>\n",
              "      <th>CO_ALUNO</th>\n",
              "      <th>Cat_Adm</th>\n",
              "      <th>CO_CURSO</th>\n",
              "      <th>Nivel_Aca</th>\n",
              "      <th>Cor/Raca</th>\n",
              "      <th>Genero</th>\n",
              "      <th>IN_RESERVA_ETNICO</th>\n",
              "      <th>IN_RESERVA_VAGAS</th>\n",
              "      <th>Apoio_Social</th>\n",
              "      <th>Ano</th>\n",
              "      <th>Nome_Curso</th>\n",
              "      <th>Nome_Instituição</th>\n",
              "      <th>Municipio</th>\n",
              "      <th>UF</th>\n",
              "      <th>CAPITAL</th>\n",
              "      <th>Cota_Racial</th>\n",
              "    </tr>\n",
              "  </thead>\n",
              "  <tbody>\n",
              "    <tr>\n",
              "      <th>0</th>\n",
              "      <td>780</td>\n",
              "      <td>400000004203</td>\n",
              "      <td>4</td>\n",
              "      <td>18471</td>\n",
              "      <td>1</td>\n",
              "      <td>2.0</td>\n",
              "      <td>1.0</td>\n",
              "      <td>0</td>\n",
              "      <td>0.0</td>\n",
              "      <td>0.0</td>\n",
              "      <td>2009</td>\n",
              "      <td>ARQUITETURA E URBANISMO</td>\n",
              "      <td>UNIVERSIDADE DE CUIABÁ</td>\n",
              "      <td>Cuiabá</td>\n",
              "      <td>MT</td>\n",
              "      <td>True</td>\n",
              "      <td>0</td>\n",
              "    </tr>\n",
              "  </tbody>\n",
              "</table>\n",
              "</div>"
            ],
            "text/plain": [
              "   CO_IES      CO_ALUNO  Cat_Adm  CO_CURSO  ...  Municipio  UF  CAPITAL Cota_Racial\n",
              "0     780  400000004203        4     18471  ...     Cuiabá  MT     True           0\n",
              "\n",
              "[1 rows x 17 columns]"
            ]
          },
          "metadata": {
            "tags": []
          },
          "execution_count": 44
        }
      ]
    },
    {
      "cell_type": "markdown",
      "metadata": {
        "id": "KVq3XhmM_mCs"
      },
      "source": [
        "O dataset parece funcionar como o esperado, com todas as informações que queremos para nossa análise, que será feita em outro notebook.\n"
      ]
    },
    {
      "cell_type": "markdown",
      "metadata": {
        "id": "lSegIL4G_v6S"
      },
      "source": [
        "##Últimos Ajustes"
      ]
    },
    {
      "cell_type": "markdown",
      "metadata": {
        "id": "Tio4nPdu_yNN"
      },
      "source": [
        "Vamos ver os tipos de dados, e ver se podermos melhorar algum para ocupar menos espaço.\n"
      ]
    },
    {
      "cell_type": "code",
      "metadata": {
        "id": "zsMOp0Sr_3g8",
        "colab": {
          "base_uri": "https://localhost:8080/"
        },
        "outputId": "7c2c524a-3403-4943-e9f7-9ac90514d930"
      },
      "source": [
        "datafinal.info()"
      ],
      "execution_count": null,
      "outputs": [
        {
          "output_type": "stream",
          "text": [
            "<class 'pandas.core.frame.DataFrame'>\n",
            "Int64Index: 44261224 entries, 0 to 90268\n",
            "Data columns (total 17 columns):\n",
            " #   Column             Dtype  \n",
            "---  ------             -----  \n",
            " 0   CO_IES             int64  \n",
            " 1   CO_ALUNO           object \n",
            " 2   Cat_Adm            int64  \n",
            " 3   CO_CURSO           int64  \n",
            " 4   Nivel_Aca          int64  \n",
            " 5   Cor/Raca           float64\n",
            " 6   Genero             float64\n",
            " 7   IN_RESERVA_ETNICO  object \n",
            " 8   IN_RESERVA_VAGAS   float64\n",
            " 9   Apoio_Social       float64\n",
            " 10  Ano                int64  \n",
            " 11  Nome_Curso         object \n",
            " 12  Nome_Instituição   object \n",
            " 13  Municipio          object \n",
            " 14  UF                 object \n",
            " 15  CAPITAL            bool   \n",
            " 16  Cota_Racial        int64  \n",
            "dtypes: bool(1), float64(4), int64(6), object(6)\n",
            "memory usage: 5.6+ GB\n"
          ],
          "name": "stdout"
        }
      ]
    },
    {
      "cell_type": "markdown",
      "metadata": {
        "id": "YTTTnUKn_Xz2"
      },
      "source": [
        "Vemos que  o armazenamento de  variáveis está ocupando espaço desnecessário. Por exemplo Apoio_Social,IN_RESERVA_VAGAS, e Cota_Racial são variáveis booleana\n",
        "e eles estão armazenadas como float64 ocupando muito espaço. Semelhantemente ele está usando int64 para\n",
        "a variável Cat_Adm e Nivel_Academico. Podemos armazená-las em int8 sem problemas de armazenamento e pouparemos memória dessa forma. Por fim podemos retirar as variáveis referentes a códigos, pois temos os seus valores reais. Faremos isto na celula abaixo.\n"
      ]
    },
    {
      "cell_type": "code",
      "metadata": {
        "id": "pXrTlaieRUKh"
      },
      "source": [
        "datafinal.IN_RESERVA_VAGAS = datafinal.IN_RESERVA_VAGAS.astype(\"bool\")\n",
        "datafinal.Apoio_Social = datafinal.Apoio_Social.astype(\"bool\")\n",
        "datafinal.Cota_Racial = datafinal.Cota_Racial.astype(\"bool\")\n",
        "datafinal.Cat_Adm = datafinal.Cat_Adm.astype(\"int8\")\n",
        "datafinal.Nivel_Aca = datafinal.Nivel_Aca.astype(\"int8\")\n",
        "datafinal.Genero = datafinal.Genero.astype(\"int8\")\n",
        "datafinal[\"Cor/Raca\"] = datafinal[\"Cor/Raca\"].astype(\"int8\")\n",
        "\n",
        "data = datafinal.drop(columns = [\"CO_CURSO\",\"CO_IES\",\"CO_ALUNO\",\"IN_RESERVA_ETNICO\"])\n",
        "\n",
        "\n"
      ],
      "execution_count": null,
      "outputs": []
    },
    {
      "cell_type": "markdown",
      "metadata": {
        "id": "akJd_2w1YA79"
      },
      "source": [
        "Vamos checar o uso de memória e ver se criamos algum valor nulo na nossa transformação"
      ]
    },
    {
      "cell_type": "code",
      "metadata": {
        "id": "CoY_8jIbYR-E",
        "colab": {
          "base_uri": "https://localhost:8080/"
        },
        "outputId": "0951da7d-3cad-4160-aadd-67b03c21986d"
      },
      "source": [
        "data.info()"
      ],
      "execution_count": null,
      "outputs": [
        {
          "output_type": "stream",
          "text": [
            "<class 'pandas.core.frame.DataFrame'>\n",
            "Int64Index: 44261224 entries, 0 to 90268\n",
            "Data columns (total 13 columns):\n",
            " #   Column            Dtype \n",
            "---  ------            ----- \n",
            " 0   Cat_Adm           int8  \n",
            " 1   Nivel_Aca         int8  \n",
            " 2   Cor/Raca          int8  \n",
            " 3   Genero            int8  \n",
            " 4   IN_RESERVA_VAGAS  bool  \n",
            " 5   Apoio_Social      bool  \n",
            " 6   Ano               int64 \n",
            " 7   Nome_Curso        object\n",
            " 8   Nome_Instituição  object\n",
            " 9   Municipio         object\n",
            " 10  UF                object\n",
            " 11  CAPITAL           bool  \n",
            " 12  Cota_Racial       bool  \n",
            "dtypes: bool(4), int64(1), int8(4), object(4)\n",
            "memory usage: 2.3+ GB\n"
          ],
          "name": "stdout"
        }
      ]
    },
    {
      "cell_type": "code",
      "metadata": {
        "id": "O0vuHV-qYiLO",
        "colab": {
          "base_uri": "https://localhost:8080/"
        },
        "outputId": "3853e5b8-933f-4d13-c043-77b41d4569ba"
      },
      "source": [
        "data.isna().sum()"
      ],
      "execution_count": null,
      "outputs": [
        {
          "output_type": "execute_result",
          "data": {
            "text/plain": [
              "Cat_Adm             0\n",
              "Nivel_Aca           0\n",
              "Cor/Raca            0\n",
              "Genero              0\n",
              "IN_RESERVA_VAGAS    0\n",
              "Apoio_Social        0\n",
              "Ano                 0\n",
              "Nome_Curso          0\n",
              "Nome_Instituição    0\n",
              "Municipio           0\n",
              "UF                  0\n",
              "CAPITAL             0\n",
              "Cota_Racial         0\n",
              "dtype: int64"
            ]
          },
          "metadata": {
            "tags": []
          },
          "execution_count": 48
        }
      ]
    },
    {
      "cell_type": "markdown",
      "metadata": {
        "id": "Pfr3PWF2YqBw"
      },
      "source": [
        "Sem valores nulos e conseguimos liber 3GB de espaço(de 5.3 para 2.3). Parece que os dados estão prontos para serem armazenados e analisados em outro notebook. Por fim vamos ver o tempo que gastou para o código ser compilado."
      ]
    },
    {
      "cell_type": "code",
      "metadata": {
        "id": "iyUWy6bpQTL9",
        "colab": {
          "base_uri": "https://localhost:8080/"
        },
        "outputId": "ac4dcf15-ba11-4c6a-d943-3eaa109ae892"
      },
      "source": [
        "tempoSem = datetime.now() - startTime\n",
        "print(f\"Tempo gasto antes da conversão do dataframe para um arquivo .csv : {tempoSem} \")\n"
      ],
      "execution_count": null,
      "outputs": [
        {
          "output_type": "stream",
          "text": [
            "Tempo gasto antes da conversão do dataframe para um arquivo .csv : 1:46:18.186974 \n"
          ],
          "name": "stdout"
        }
      ]
    },
    {
      "cell_type": "markdown",
      "metadata": {
        "id": "SbZtZIw509nW"
      },
      "source": [
        "#Armazenamento no google drive"
      ]
    },
    {
      "cell_type": "code",
      "metadata": {
        "id": "aQ3rQTQyas7n",
        "colab": {
          "base_uri": "https://localhost:8080/"
        },
        "outputId": "a48df73b-f748-4645-e1cb-021eb871a176"
      },
      "source": [
        "data.info()"
      ],
      "execution_count": null,
      "outputs": [
        {
          "output_type": "stream",
          "text": [
            "<class 'pandas.core.frame.DataFrame'>\n",
            "Int64Index: 44261224 entries, 0 to 90268\n",
            "Data columns (total 13 columns):\n",
            " #   Column            Dtype \n",
            "---  ------            ----- \n",
            " 0   Cat_Adm           int8  \n",
            " 1   Nivel_Aca         int8  \n",
            " 2   Cor/Raca          int8  \n",
            " 3   Genero            int8  \n",
            " 4   IN_RESERVA_VAGAS  bool  \n",
            " 5   Apoio_Social      bool  \n",
            " 6   Ano               int64 \n",
            " 7   Nome_Curso        object\n",
            " 8   Nome_Instituição  object\n",
            " 9   Municipio         object\n",
            " 10  UF                object\n",
            " 11  CAPITAL           bool  \n",
            " 12  Cota_Racial       bool  \n",
            "dtypes: bool(4), int64(1), int8(4), object(4)\n",
            "memory usage: 2.3+ GB\n"
          ],
          "name": "stdout"
        }
      ]
    },
    {
      "cell_type": "markdown",
      "metadata": {
        "id": "-G2et1OLA1G9"
      },
      "source": [
        "Vemos que este dataset ia ocupar pelo menos 2,3GB de memória. Esta quantidade pode ser armazenada na maioria dos agregadores de dados atuais. Eu utilizarei o Google Drive para isto."
      ]
    },
    {
      "cell_type": "code",
      "metadata": {
        "id": "LiUL7CKmC_7U",
        "colab": {
          "base_uri": "https://localhost:8080/"
        },
        "outputId": "b85eb047-3e68-41f6-81df-61bf278233c3"
      },
      "source": [
        "from google.colab import drive #importando o google drive para esta sessão\n",
        "drive.mount('/content/drive')"
      ],
      "execution_count": null,
      "outputs": [
        {
          "output_type": "stream",
          "text": [
            "Mounted at /content/drive\n"
          ],
          "name": "stdout"
        }
      ]
    },
    {
      "cell_type": "markdown",
      "metadata": {
        "id": "PMjichWztEU4"
      },
      "source": [
        "Criarei uma pasta no meu google drive chamado dados_INEP e armazanei os dados como dataCkeab.csv."
      ]
    },
    {
      "cell_type": "code",
      "metadata": {
        "id": "KyLS8nJYeqJ0"
      },
      "source": [
        "data.to_csv(\"/content/drive/MyDrive/dados_INEP_LIMPO/dataClean.csv\",chunksize=  100000  ,encoding=\"ISO-8859-1\", index=False)\n"
      ],
      "execution_count": null,
      "outputs": []
    },
    {
      "cell_type": "markdown",
      "metadata": {
        "id": "p7-IuUvltMj5"
      },
      "source": [
        "Por fim vamos limpar os dados criados por ocupam muito espaço e já temos os dados que desejávamos extrair."
      ]
    },
    {
      "cell_type": "code",
      "metadata": {
        "id": "FCJafPesnghH",
        "colab": {
          "base_uri": "https://localhost:8080/"
        },
        "outputId": "122eb8f2-54c6-4cad-a5b6-f57936434cf6"
      },
      "source": [
        "print('Fazendo a limpeza de dados ociosos')\n",
        "for data in diretorio :\n",
        "    shutil.rmtree(data)\n",
        "for data in zip_files :\n",
        "    os.remove(data)\n",
        "\n",
        "\n",
        "print(\"Limpeza de dados ociosos completa!\")\n",
        "tempo = datetime.now()- startTime\n",
        "\n",
        "print(f\"A duração de execucação de todo o notebook durou :{tempo } \")\n"
      ],
      "execution_count": null,
      "outputs": [
        {
          "output_type": "stream",
          "text": [
            "Fazendo a limpeza de dados ociosos\n",
            "Limpeza de dados ociosos completa!\n",
            "A duração de execucação de todo o notebook durou :2:24:53.406702 \n"
          ],
          "name": "stdout"
        }
      ]
    }
  ]
}